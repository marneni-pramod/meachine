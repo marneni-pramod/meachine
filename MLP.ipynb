{
  "nbformat": 4,
  "nbformat_minor": 0,
  "metadata": {
    "colab": {
      "provenance": []
    },
    "kernelspec": {
      "name": "python3",
      "display_name": "Python 3"
    },
    "language_info": {
      "name": "python"
    }
  },
  "cells": [
    {
      "cell_type": "code",
      "execution_count": 7,
      "metadata": {
        "colab": {
          "base_uri": "https://localhost:8080/",
          "height": 139
        },
        "id": "QMdxPNYI3GpT",
        "outputId": "f7a21d0d-16f6-4e1d-c2ae-e5fcd6deb4c7"
      },
      "outputs": [
        {
          "output_type": "stream",
          "name": "stdout",
          "text": [
            "Sample training data:\n",
            "   Battery Capacity (kWh)  Charging Time (hours)  Range per Charge (miles)\n",
            "0               -1.534059               1.077829                  0.507474\n",
            "1                1.536054              -1.345349                  1.129535\n",
            "2                0.394066              -1.529440                  0.040357\n",
            "3               -1.594441              -0.354381                 -0.718223\n",
            "4                1.433799              -1.324067                  1.679497\n"
          ]
        },
        {
          "output_type": "display_data",
          "data": {
            "text/plain": [
              "<IPython.core.display.Javascript object>"
            ],
            "application/javascript": [
              "\n",
              "    async function download(id, filename, size) {\n",
              "      if (!google.colab.kernel.accessAllowed) {\n",
              "        return;\n",
              "      }\n",
              "      const div = document.createElement('div');\n",
              "      const label = document.createElement('label');\n",
              "      label.textContent = `Downloading \"${filename}\": `;\n",
              "      div.appendChild(label);\n",
              "      const progress = document.createElement('progress');\n",
              "      progress.max = size;\n",
              "      div.appendChild(progress);\n",
              "      document.body.appendChild(div);\n",
              "\n",
              "      const buffers = [];\n",
              "      let downloaded = 0;\n",
              "\n",
              "      const channel = await google.colab.kernel.comms.open(id);\n",
              "      // Send a message to notify the kernel that we're ready.\n",
              "      channel.send({})\n",
              "\n",
              "      for await (const message of channel.messages) {\n",
              "        // Send a message to notify the kernel that we're ready.\n",
              "        channel.send({})\n",
              "        if (message.buffers) {\n",
              "          for (const buffer of message.buffers) {\n",
              "            buffers.push(buffer);\n",
              "            downloaded += buffer.byteLength;\n",
              "            progress.value = downloaded;\n",
              "          }\n",
              "        }\n",
              "      }\n",
              "      const blob = new Blob(buffers, {type: 'application/binary'});\n",
              "      const a = document.createElement('a');\n",
              "      a.href = window.URL.createObjectURL(blob);\n",
              "      a.download = filename;\n",
              "      div.appendChild(a);\n",
              "      a.click();\n",
              "      div.remove();\n",
              "    }\n",
              "  "
            ]
          },
          "metadata": {}
        },
        {
          "output_type": "display_data",
          "data": {
            "text/plain": [
              "<IPython.core.display.Javascript object>"
            ],
            "application/javascript": [
              "download(\"download_b542b9c2-e990-46e9-854f-e49d46987074\", \"electric_vehicle_dataset.csv\", 56963)"
            ]
          },
          "metadata": {}
        }
      ],
      "source": [
        "import numpy as np\n",
        "import pandas as pd\n",
        "from sklearn.model_selection import train_test_split\n",
        "from sklearn.preprocessing import StandardScaler\n",
        "\n",
        "# Seed for reproducibility\n",
        "np.random.seed(42)\n",
        "\n",
        "# Generate random electric vehicle dataset\n",
        "n_samples = 1000\n",
        "features = {\n",
        "    'Battery Capacity (kWh)': np.random.uniform(20, 100, n_samples),\n",
        "    'Charging Time (hours)': np.random.uniform(0.5, 12, n_samples),\n",
        "    'Range per Charge (miles)': np.random.uniform(100, 400, n_samples)\n",
        "}\n",
        "\n",
        "# Simulate binary classification labels (High vs. Low Performance)\n",
        "labels = np.random.choice([0, 1], size=n_samples, p=[0.5, 0.5])\n",
        "\n",
        "# Create DataFrame\n",
        "data = pd.DataFrame(features)\n",
        "data['Performance Label'] = labels\n",
        "\n",
        "# Train-test split\n",
        "X = data.drop('Performance Label', axis=1)\n",
        "y = data['Performance Label']\n",
        "X_train, X_test, y_train, y_test = train_test_split(X, y, test_size=0.2, random_state=42)\n",
        "\n",
        "# Standardize features\n",
        "scaler = StandardScaler()\n",
        "X_train_scaled = scaler.fit_transform(X_train)\n",
        "X_test_scaled = scaler.transform(X_test)\n",
        "\n",
        "# Output data for reference\n",
        "print(\"Sample training data:\")\n",
        "print(pd.DataFrame(X_train_scaled, columns=X.columns).head())\n",
        "\n",
        "# Save dataset to a CSV file\n",
        "data.to_csv('electric_vehicle_dataset.csv', index=False)\n",
        "\n",
        "# Google Colab, download the file\n",
        "from google.colab import files\n",
        "files.download('electric_vehicle_dataset.csv')  # Use the same file name here"
      ]
    },
    {
      "cell_type": "code",
      "source": [
        "import tensorflow as tf\n",
        "from tensorflow.keras.models import Sequential\n",
        "from tensorflow.keras.layers import Dense\n",
        "from tensorflow.keras.optimizers import Adam\n",
        "from sklearn.metrics import classification_report\n",
        "\n",
        "# Function to build an MLP\n",
        "def build_mlp(input_dim, depth, width):\n",
        "    model = Sequential()\n",
        "    model.add(Dense(width, activation='relu', input_dim=input_dim))\n",
        "    for _ in range(depth - 1):\n",
        "        model.add(Dense(width, activation='relu'))\n",
        "    model.add(Dense(1, activation='sigmoid'))\n",
        "    model.compile(optimizer=Adam(learning_rate=0.001), loss='binary_crossentropy', metrics=['accuracy'])\n",
        "    return model\n",
        "\n",
        "# Experiment with varying depth and width\n",
        "configurations = [\n",
        "    {'depth': 2, 'width': 16},\n",
        "    {'depth': 4, 'width': 16},\n",
        "    {'depth': 2, 'width': 64},\n",
        "    {'depth': 4, 'width': 64}\n",
        "]\n",
        "\n",
        "results = []\n",
        "\n",
        "for config in configurations:\n",
        "    print(f\"Training MLP with depth={config['depth']} and width={config['width']}\")\n",
        "    model = build_mlp(X_train_scaled.shape[1], config['depth'], config['width'])\n",
        "    history = model.fit(X_train_scaled, y_train, epochs=20, batch_size=32, validation_split=0.2, verbose=0)\n",
        "\n",
        "    # Evaluate on test data\n",
        "    loss, accuracy = model.evaluate(X_test_scaled, y_test, verbose=0)\n",
        "    results.append({'Depth': config['depth'], 'Width': config['width'], 'Test Accuracy': accuracy})\n",
        "\n",
        "# Display results\n",
        "results_df = pd.DataFrame(results)\n",
        "print(results_df)"
      ],
      "metadata": {
        "colab": {
          "base_uri": "https://localhost:8080/"
        },
        "id": "VokpG4xX3PVz",
        "outputId": "3e7b896c-1e60-4d15-8e42-c6993ad43f4a"
      },
      "execution_count": 2,
      "outputs": [
        {
          "output_type": "stream",
          "name": "stdout",
          "text": [
            "Training MLP with depth=2 and width=16\n"
          ]
        },
        {
          "output_type": "stream",
          "name": "stderr",
          "text": [
            "/usr/local/lib/python3.10/dist-packages/keras/src/layers/core/dense.py:87: UserWarning: Do not pass an `input_shape`/`input_dim` argument to a layer. When using Sequential models, prefer using an `Input(shape)` object as the first layer in the model instead.\n",
            "  super().__init__(activity_regularizer=activity_regularizer, **kwargs)\n"
          ]
        },
        {
          "output_type": "stream",
          "name": "stdout",
          "text": [
            "Training MLP with depth=4 and width=16\n",
            "Training MLP with depth=2 and width=64\n",
            "Training MLP with depth=4 and width=64\n",
            "   Depth  Width  Test Accuracy\n",
            "0      2     16          0.540\n",
            "1      4     16          0.495\n",
            "2      2     64          0.565\n",
            "3      4     64          0.545\n"
          ]
        }
      ]
    }
  ]
}